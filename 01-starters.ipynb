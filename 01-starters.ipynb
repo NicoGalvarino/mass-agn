{
 "cells": [
  {
   "cell_type": "markdown",
   "metadata": {},
   "source": [
    "![](https://www.astro.rug.nl/nbpictures/logo300px.png)"
   ]
  },
  {
   "cell_type": "markdown",
   "metadata": {},
   "source": [
    "# Python for starters"
   ]
  },
  {
   "cell_type": "markdown",
   "metadata": {},
   "source": [
    "A programming language is a formal language used to communicate with computers. It allows you to write instructions or code that a computer can understand and execute to perform specific tasks or solve problems. As an astrophysics student, programming can be a powerful tool to help you analyze and visualize data, simulate physical systems, and develop computational models.\n",
    "\n",
    "Programming languages have evolved in different directions and nowadays there are many different languages, see for example:\n",
    "http://en.wikipedia.org/wiki/List_of_programming_languages"
   ]
  },
  {
   "cell_type": "markdown",
   "metadata": {},
   "source": [
    "Python is very popular programming language in science community, and here are a few reasons why this is the case:\n",
    "\n",
    "- **Versatility:** Python is a versatile programming language that can be used for various tasks, including data analysis, simulations, and machine learning. This makes it a useful tool for a wide range of astrophysical applications.\n",
    "- **Large community and resources:** Python has a large community of developers and users, which means there are many resources and libraries available. For example, there are specialized libraries for astrophysicists to analzye spectra, photometric data, interact with astronomical databases throgh API and much more (check out [Astropy Project](https://www.astropy.org/affiliated/index.html) where you can find a list of all supported packages). This saves time and allows us to focus on our research objective rather than reinventing the wheel.\n",
    "- **User-friendly:** Python is relatively easy to learn and use, with a clear syntax and readable code. This makes it accessible to scientists who may not have a background in programming.\n",
    "- **Free and open-source:** Python is free to use and open-source, which means that anyone can use it, modify it, and contribute to its development. This fosters collaboration and innovation within the scientific community."
   ]
  },
  {
   "cell_type": "markdown",
   "metadata": {},
   "source": [
    "## Assignments"
   ]
  },
  {
   "cell_type": "markdown",
   "metadata": {},
   "source": [
    "For starters, let's see how you can store some kind of data (e.g, a number to use later in calculations) in a Python object. Just so you know, everything in python is an object and has its place in computer memory, from integers and strings to functions and classes! \n",
    "\n",
    "A symbolic reference to a Python object (in this case, a number) in computer memory is called a *variable* and we call the process of storing data in a variable an *assignment*:"
   ]
  },
  {
   "cell_type": "code",
   "execution_count": 1,
   "metadata": {},
   "outputs": [],
   "source": [
    "answer = 42"
   ]
  },
  {
   "cell_type": "code",
   "execution_count": 2,
   "metadata": {},
   "outputs": [],
   "source": [
    "pi = 3.14"
   ]
  },
  {
   "cell_type": "code",
   "execution_count": 3,
   "metadata": {},
   "outputs": [],
   "source": [
    "a = 1000000.1"
   ]
  },
  {
   "cell_type": "markdown",
   "metadata": {},
   "source": [
    "Nothing seems to happen. But the computer silently stored the numbers in its memory. So what is then the way to check that indeed the numbers are stored? We have to use the variable name again to retrieve the values. We can type the name of the variable and press ``<shift><enter>`` again to see the result:"
   ]
  },
  {
   "cell_type": "code",
   "execution_count": 4,
   "metadata": {},
   "outputs": [
    {
     "data": {
      "text/plain": [
       "42"
      ]
     },
     "execution_count": 4,
     "metadata": {},
     "output_type": "execute_result"
    }
   ],
   "source": [
    "answer"
   ]
  },
  {
   "cell_type": "markdown",
   "metadata": {},
   "source": [
    "## Rules for variable names\n",
    "\n",
    "Variables in Python start with a character or underscore (\\_). Variable names are case sensitive so ``x`` and ``X`` are different variables. Don't use reserved words (python keywords) like `while` or `class`. You can find a list of python keywords [here](https://www.w3schools.com/python/python_ref_keywords.asp)."
   ]
  },
  {
   "cell_type": "code",
   "execution_count": 7,
   "metadata": {},
   "outputs": [
    {
     "ename": "SyntaxError",
     "evalue": "invalid syntax (598160304.py, line 1)",
     "output_type": "error",
     "traceback": [
      "\u001b[0;36m  File \u001b[0;32m\"/tmp/ipykernel_10969/598160304.py\"\u001b[0;36m, line \u001b[0;32m1\u001b[0m\n\u001b[0;31m    class = 'galaxy'\u001b[0m\n\u001b[0m          ^\u001b[0m\n\u001b[0;31mSyntaxError\u001b[0m\u001b[0;31m:\u001b[0m invalid syntax\n"
     ]
    }
   ],
   "source": [
    "class = 'galaxy'"
   ]
  },
  {
   "cell_type": "markdown",
   "metadata": {},
   "source": [
    "## Operators\n",
    "\n",
    "Your calculator can process expressions with numbers. A programming language for numerical work must support a wide range of mathematical functions and operators. Operators are symbols like ``+``,  ``-``, ``*`` and ``/``\n",
    "\n",
    "But we use programming language not just to perform calculations with numbers, it is much more useful if you can use variables in your expressions. Let's try to illustrate this with the next lines:"
   ]
  },
  {
   "cell_type": "code",
   "execution_count": 8,
   "metadata": {},
   "outputs": [
    {
     "data": {
      "text/plain": [
       "21.0"
      ]
     },
     "execution_count": 8,
     "metadata": {},
     "output_type": "execute_result"
    }
   ],
   "source": [
    "var1 = 10.5\n",
    "var2 = var1*2\n",
    "var2"
   ]
  },
  {
   "cell_type": "markdown",
   "metadata": {},
   "source": [
    "## Table with Python operators\n",
    "\n",
    "| Operator | Description |\n",
    "|----------|-------------|\n",
    "| +        | Addition Adds values on either side of the operator |\n",
    "| -        | Subtraction - Subtracts right hand operand from left hand operand |\n",
    "| \\*       | Multiplication - Multiplies values on either side of the operator |\n",
    "| /        | Division - Divides left hand operand by right hand operand |\n",
    "| %        | Modulus - Divides left hand operand by right hand operand and returns remainder |\n",
    "| &#42;&#42;|Exponent - Performs exponential (power) calculation on operators |\n",
    "| //       | Floor Division - The division of operands where the result is the quotient in which the digits after the decimal point are removed. |"
   ]
  },
  {
   "cell_type": "markdown",
   "metadata": {},
   "source": [
    "## Numbers in exponential notation\n",
    "To make a connection with physics as soon as possible we are going to play with the masses of the heaviest objects in our Solar system using Python variables. These objects are heavy and therefore we express their masses in the exponential notation. So how does one specify a number in this notation in Python? Here are two examples and prove that these numbers can be written in different ways:"
   ]
  },
  {
   "cell_type": "code",
   "execution_count": 9,
   "metadata": {},
   "outputs": [
    {
     "data": {
      "text/plain": [
       "0.0"
      ]
     },
     "execution_count": 9,
     "metadata": {},
     "output_type": "execute_result"
    }
   ],
   "source": [
    "x1 = 1000.0\n",
    "x2 = 1.0e3\n",
    "x2-x1"
   ]
  },
  {
   "cell_type": "code",
   "execution_count": 10,
   "metadata": {},
   "outputs": [
    {
     "data": {
      "text/plain": [
       "0.0"
      ]
     },
     "execution_count": 10,
     "metadata": {},
     "output_type": "execute_result"
    }
   ],
   "source": [
    "x1 = 0.0001\n",
    "x2 = 1.0e-4\n",
    "x2-x1"
   ]
  },
  {
   "cell_type": "markdown",
   "metadata": {},
   "source": [
    "\n",
    "Mass of the Planets and the Sun:\n",
    "\n",
    "| Rank            | Name              | Mass (kg)       |\n",
    "|:----------------|:------------------|----------------:|\n",
    "| 1 \t          | Sun               | 1.9891 x 10^30  |\n",
    "|2 \t|Jupiter |\t1.8986 x 10^27 |\n",
    "|3 \t|Saturn |\t5.6846 x 10^26 |\n",
    "|4 \t|Neptune |\t10.243 x 10^25 |\n",
    "|5 \t|Uranus |\t8.6810 x 10^25 |\n",
    "|6 \t|Earth \t|5.9736 x 10^24 |\n",
    "|7 \t|Venus \t|4.8685 x 10^24 |\n",
    "|8 \t|Mars \t|6.4185 x 10^23 |\n",
    "|9  |Mercury |\t3.3022 x 10^23 |\n",
    "|10 |Moon |\t7.349 x 10^22 |\n",
    "|11 |Pluto|1.25 x 10^22 |"
   ]
  },
  {
   "cell_type": "markdown",
   "metadata": {},
   "source": [
    "## <font color='red'>Example</font>\n",
    "\n",
    "Use the names of the object listed in the table with masses to calculate the sum of the 4 most heavy objects in our solar system. How much heavier is the Sun compared to Earth?"
   ]
  },
  {
   "cell_type": "code",
   "execution_count": 11,
   "metadata": {},
   "outputs": [
    {
     "data": {
      "text/plain": [
       "1.9916694900000001e+30"
      ]
     },
     "execution_count": 11,
     "metadata": {},
     "output_type": "execute_result"
    }
   ],
   "source": [
    "sun = 1.9891e30\n",
    "jupiter = 1.8986e27\n",
    "saturn = 5.6846e26\n",
    "neptune = 10.243e25\n",
    "total = sun + jupiter + saturn + neptune\n",
    "total"
   ]
  },
  {
   "cell_type": "code",
   "execution_count": 12,
   "metadata": {},
   "outputs": [
    {
     "data": {
      "text/plain": [
       "332981.78652738716"
      ]
     },
     "execution_count": 12,
     "metadata": {},
     "output_type": "execute_result"
    }
   ],
   "source": [
    "earth = 5.9736e24\n",
    "sun/earth"
   ]
  },
  {
   "cell_type": "markdown",
   "metadata": {},
   "source": [
    "## Printing the contents of a variable"
   ]
  },
  {
   "cell_type": "markdown",
   "metadata": {},
   "source": [
    "A notebook like this one, is used to develop and test parts of code. One can save code in a `.py` file and execute it using a python interpreter from terminal or IDE (like Spyder, PyCharm, VS Code, etc). In that case, if you want to **see** something on the screen while the program runs you must use a `print` statement.\n",
    "\n",
    "Here is an example how to print variable ``earth``."
   ]
  },
  {
   "cell_type": "code",
   "execution_count": 13,
   "metadata": {},
   "outputs": [
    {
     "name": "stdout",
     "output_type": "stream",
     "text": [
      "5.9736e+24\n"
     ]
    }
   ],
   "source": [
    "print(earth)"
   ]
  },
  {
   "cell_type": "code",
   "execution_count": 15,
   "metadata": {},
   "outputs": [
    {
     "name": "stdout",
     "output_type": "stream",
     "text": [
      "Mass =  5.9736e+24 kg\n"
     ]
    }
   ],
   "source": [
    "print(\"Mass = \", earth, \"kg\")"
   ]
  },
  {
   "cell_type": "markdown",
   "metadata": {},
   "source": [
    "Here we need some extra explanation. \n",
    "\n",
    "In this ``print()`` function, one can compose useful output by combining text and variables. In programming languages, text is defined by a **string** of characters and must start and end with double- or single quotes as in ``\"Mass=\"``. Strings and variables can be concatenated in the ``print()`` function if you use a comma as a separator. This is exactly what is shown in the example:\n",
    "\n",
    "``print(\"Mass=\", earth, \"kg\")``\n",
    "\n",
    "The ``print()`` function automatically converts the value of ``earth`` to a string before it is printed."
   ]
  },
  {
   "cell_type": "markdown",
   "metadata": {},
   "source": [
    "## Precedence rules for operators\n",
    "\n",
    "It is important to realize that the expression ``3+4*5`` is not the same as ``(3+4)*5``. This has to do that that an expression is evaluated from left to right and that there are rules of operator precedence. We summarize these rules in the table below:\n",
    "\n",
    "*-Precedence HIGH to LOW-*\n",
    "\n",
    "| Operator  |  Remark  |\n",
    "|-----------|----------|\n",
    "| ( )       | (anything within parentheses is done first)|\n",
    "| \\*\\*      | (exponentiation) |\n",
    "|-x, +x     | positive, negative |\n",
    "| \\*, /, %, //, +, -,&lt;, &gt;, &lt;=, &gt;=, !=, == | relational operators |\n",
    "| logical not | Will be discussed later |\n",
    "| logical and |                         |\n",
    "| logical or  |                         |"
   ]
  },
  {
   "cell_type": "markdown",
   "metadata": {},
   "source": [
    "## Mathematical functions\n",
    "\n",
    "A list with all mathematical functions is given on https://docs.python.org/3/library/math.html  \n",
    "We give some examples. To use mathematical functions, we need to import the **math** module."
   ]
  },
  {
   "cell_type": "code",
   "execution_count": 23,
   "metadata": {},
   "outputs": [
    {
     "name": "stdout",
     "output_type": "stream",
     "text": [
      "Sin(30)= 0.49999999999999994\n",
      "Original x = 29.999999999999996\n",
      "Original 30.000\n"
     ]
    }
   ],
   "source": [
    "from math import *     # Load all available mathematical functions\n",
    "\n",
    "x = 30  # degrees\n",
    "xrad = radians(x)\n",
    "y = sin(xrad)\n",
    "print('Sin(30)=', y)\n",
    "\n",
    "xrad = asin(y)\n",
    "x = degrees(xrad)\n",
    "print(\"Original x =\", x)\n",
    "print(f'Original {x:.3f}')"
   ]
  },
  {
   "cell_type": "markdown",
   "metadata": {},
   "source": [
    "The code seems trivial but there is much going on in these few lines.\n",
    "\n",
    "* The import statement made all mathematical functions available to the programmer\n",
    "* We used a function to convert degrees to radians, because the trigonometric functions (sin, cos, etc) work in radians only. We found this angular conversion function in  https://docs.python.org/3/library/math.html \n",
    "* We used the ``print()`` function to compose a message for the output.\n",
    "* We used the inverse sine function ``asin()`` to check that we can get back to the original value of ``x``.\n",
    "* We observe some rounding problems which are caused by a limited precision of floating point numbers. This can be avoided if you use a formatted print statement."
   ]
  },
  {
   "cell_type": "markdown",
   "metadata": {},
   "source": [
    "## Augmented assignments\n",
    "\n",
    "If you increase the value of a variable with a number, the non mathematical way to write this is:\n",
    "\n",
    "    a = 10\n",
    "    a = a + 1\n",
    "\n",
    "but there is also an alternative. These alternatives are called *augmented* assignments and there are special operators available to do an augmented assignment. An augmented assignment means that an operation is performed 'in-place' while for other assignments a new intermediate variable is created, which is less effective (we will demonstrate this if we deal with arrays).\n",
    "In the next cell we show examples of augmented assignments. "
   ]
  },
  {
   "cell_type": "code",
   "execution_count": 24,
   "metadata": {},
   "outputs": [
    {
     "name": "stdout",
     "output_type": "stream",
     "text": [
      "a= 400.0\n"
     ]
    }
   ],
   "source": [
    "a = 10\n",
    "a += 1\n",
    "a -= 2\n",
    "a *= 20\n",
    "a /= 9\n",
    "a **= 2\n",
    "print(\"a=\", a)"
   ]
  },
  {
   "cell_type": "markdown",
   "metadata": {},
   "source": [
    "## <font color='red'>Task 1</font>\n"
   ]
  },
  {
   "cell_type": "markdown",
   "metadata": {},
   "source": [
    "Your knowledge should be enough at this moment to create a program that calculates radial velocity and redshift given the rest wavelenght ($\\lambda_0$) and observational wavelenght ($\\lambda$) of the object. To spice things up, you should take into account both relativistic and non-relativistic cases for calculating radial velocity (take $0.1 c$ as threshold).\n",
    "\n",
    "Non-relativistic formula:\n",
    "\n",
    "$$z = \\frac{\\lambda - \\lambda_0}{\\lambda_0} = \\frac{\\Delta \\lambda}{\\lambda_0}= \\frac{v}{c}$$\n",
    "\n",
    "Relativistic formula:\n",
    "\n",
    "$$z = \\frac{\\Delta \\lambda}{\\lambda_0} = \\sqrt{\\frac{1+v/c}{1-v/c}} - 1$$\n",
    "\n",
    "\n",
    "Steps to create an implementation in Python:\n",
    "\n",
    "- Calculate redshift `z` using observed and rest wavelenghts\n",
    "- Use the given thrashold to decide which formula to use for calculating `v`. You can use the following Python construction:\n",
    "\n",
    "```\n",
    "if condition:\n",
    "   # relativistic formula\n",
    "   v = ...\n",
    "else:\n",
    "   # non-relativistic formula\n",
    "   v = ...\n",
    "```\n",
    "- print the values of `v` and `z` (nicely formated)\n"
   ]
  },
  {
   "cell_type": "code",
   "execution_count": 34,
   "metadata": {},
   "outputs": [
    {
     "name": "stdout",
     "output_type": "stream",
     "text": [
      "relativistic case\n",
      "z = 1.29\n",
      "v = 2.0e+05 km/s\n"
     ]
    }
   ],
   "source": [
    "lambda_rest = 656.28    # H-alpha line wavelength (nm)\n",
    "lambda_observed = 1500  # try different values (nm): 750, 850, 1500, 620\n",
    "c = 3e5                 # speed of light (km/s)\n",
    "\n",
    "delta_lambda = lambda_observed - lambda_rest\n",
    "z = delta_lambda/lambda_rest\n",
    "\n",
    "if z > 0.1:\n",
    "    print(\"relativistic case\")\n",
    "    v = c * ((z+1)**2 - 1) / ((z+1)**2 + 1)\n",
    "\n",
    "else:\n",
    "    print(\"non-relativistic case\")\n",
    "    v = z * c\n",
    "    \n",
    "print(f\"z = {z:.2f}\")\n",
    "print(f\"v = {v:.1e} km/s\")"
   ]
  },
  {
   "cell_type": "markdown",
   "metadata": {},
   "source": [
    "## <font color='red'>Task 2</font>"
   ]
  },
  {
   "cell_type": "markdown",
   "metadata": {},
   "source": [
    "Create a program that calculates the roots of a second degree polynomial $y=ax^2+bx+c$. Your program needs to know from the user what the values are of a, b and c. Then you have to remember that \n",
    "\n",
    "$$f(x)=ax^2+bx+c$$\n",
    "\n",
    "has two solutions:\n",
    "\n",
    "$$x_1=\\frac{-b + \\sqrt{b^2-4ac}}{2a} \\quad\\text{and}\\quad x_2=\\frac{-b - \\sqrt{b^2-4ac}}{2a}$$ \n",
    "\n",
    "only if:\n",
    "\n",
    "$$\\begin{split}D= b^2-4ac>0\\end{split}$$\n"
   ]
  },
  {
   "cell_type": "markdown",
   "metadata": {},
   "source": [
    "Steps to create an implementation in Python:\n",
    "\n",
    "* Use function ``input()`` to ask user values for ``a``, ``b`` and ``c``\n",
    "* Implement a formula to calculate the Discriminant\n",
    "* If the Discriminant is greater than or equal to zero calculate $x_1$ and $x_2$. Use the following Python construction:\n",
    "        \n",
    "        if D >= 0:\n",
    "           x1 = ....\n",
    "        else:\n",
    "           print(\"No roots\")\n",
    "           \n",
    "* Print the values for ``a``, ``b`` and ``c`` and $x_1$ and $x_2$\n",
    "* Check whether it works for complex numbers too (use function ``complex()`` to convert the Discriminant)."
   ]
  }
 ],
 "metadata": {
  "kernelspec": {
   "display_name": "Python 3 (ipykernel)",
   "language": "python",
   "name": "python3"
  },
  "language_info": {
   "codemirror_mode": {
    "name": "ipython",
    "version": 3
   },
   "file_extension": ".py",
   "mimetype": "text/x-python",
   "name": "python",
   "nbconvert_exporter": "python",
   "pygments_lexer": "ipython3",
   "version": "3.10.8"
  },
  "toc": {
   "base_numbering": 1,
   "nav_menu": {},
   "number_sections": true,
   "sideBar": true,
   "skip_h1_title": false,
   "title_cell": "Table of Contents",
   "title_sidebar": "Contents",
   "toc_cell": false,
   "toc_position": {},
   "toc_section_display": true,
   "toc_window_display": false
  },
  "varInspector": {
   "cols": {
    "lenName": 16,
    "lenType": 16,
    "lenVar": 40
   },
   "kernels_config": {
    "python": {
     "delete_cmd_postfix": "",
     "delete_cmd_prefix": "del ",
     "library": "var_list.py",
     "varRefreshCmd": "print(var_dic_list())"
    },
    "r": {
     "delete_cmd_postfix": ") ",
     "delete_cmd_prefix": "rm(",
     "library": "var_list.r",
     "varRefreshCmd": "cat(var_dic_list()) "
    }
   },
   "types_to_exclude": [
    "module",
    "function",
    "builtin_function_or_method",
    "instance",
    "_Feature"
   ],
   "window_display": false
  }
 },
 "nbformat": 4,
 "nbformat_minor": 1
}
